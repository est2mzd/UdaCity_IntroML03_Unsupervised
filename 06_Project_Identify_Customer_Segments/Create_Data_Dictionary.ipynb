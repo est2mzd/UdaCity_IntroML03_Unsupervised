{
 "cells": [
  {
   "cell_type": "code",
   "execution_count": 1,
   "metadata": {},
   "outputs": [],
   "source": [
    "# Read File\n",
    "file_obj = open('Data_Dictionary.md')\n",
    "buf      = file_obj.read()\n",
    "file_obj.close()"
   ]
  },
  {
   "cell_type": "code",
   "execution_count": 2,
   "metadata": {},
   "outputs": [
    {
     "name": "stdout",
     "output_type": "stream",
     "text": [
      "830\n",
      "['# Data Dictionary for Identify Customer Segments Data', '', '## Introduction', '', 'The data for this project consist of two files:']\n"
     ]
    }
   ],
   "source": [
    "# String -> List\n",
    "text_data = buf.split('\\n')\n",
    "print( len(text_data) )\n",
    "print(text_data[:5])"
   ]
  },
  {
   "cell_type": "code",
   "execution_count": 21,
   "metadata": {},
   "outputs": [],
   "source": [
    "# Get Name & Explanation\n",
    "flag_find_key = 0\n",
    "tmp_list  = []\n",
    "name_list = []\n",
    "explanation_list = []\n",
    "#\n",
    "for line in text_data:\n",
    "    #\n",
    "    if line.find(\"Table of Contents\") > -1:\n",
    "        continue\n",
    "    #\n",
    "    pos_find = line.find(\"###\")\n",
    "    #------------------------------------------\n",
    "    # get name of columns\n",
    "    if pos_find >= 0:\n",
    "        # remove \",\"\n",
    "        line = line.replace(\",\" , \"\")\n",
    "        \n",
    "        # translate multi-space to single-space\n",
    "        for i in range(5):\n",
    "            line = line.replace(\"  \", \" \")\n",
    "        \n",
    "        # split line by space       \n",
    "        flag_find_key += 1\n",
    "        line_split     = line.split(\" \")\n",
    "        \n",
    "        # save names as list\n",
    "        if flag_find_key == 1:\n",
    "            tmp_list.extend(line_split[2:])\n",
    "        else:\n",
    "            tmp_list.extend(line_split[1:])\n",
    "            \n",
    "    #------------------------------------------\n",
    "    # get explanations of columns\n",
    "    if (pos_find == -1) and (flag_find_key > 0):\n",
    "        # save data as list \n",
    "        for name in tmp_list:\n",
    "            name_list.append(name)\n",
    "            explanation_list.append(line)\n",
    "        \n",
    "        # initilize\n",
    "        flag_find_key = 0\n",
    "        tmp_list      = []"
   ]
  },
  {
   "cell_type": "code",
   "execution_count": 24,
   "metadata": {},
   "outputs": [
    {
     "name": "stdout",
     "output_type": "stream",
     "text": [
      "85\n",
      "85\n"
     ]
    }
   ],
   "source": [
    "print(len(name_list))\n",
    "print(len(explanation_list))"
   ]
  },
  {
   "cell_type": "code",
   "execution_count": 22,
   "metadata": {},
   "outputs": [
    {
     "name": "stdout",
     "output_type": "stream",
     "text": [
      "['AGER_TYP', 'ALTERSKATEGORIE_GROB', 'ANREDE_KZ', 'CJT_GESAMTTYP', 'FINANZ_MINIMALIST', 'FINANZ_SPARER', 'FINANZ_VORSORGER', 'FINANZ_ANLEGER', 'FINANZ_UNAUFFAELLIGER', 'FINANZ_HAUSBAUER', 'FINANZTYP', 'GEBURTSJAHR', 'GFK_URLAUBERTYP', 'GREEN_AVANTGARDE', 'HEALTH_TYP', 'LP_LEBENSPHASE_FEIN', 'LP_LEBENSPHASE_GROB', 'LP_FAMILIE_FEIN', 'LP_FAMILIE_GROB', 'LP_STATUS_FEIN', 'LP_STATUS_GROB', 'NATIONALITAET_KZ', 'PRAEGENDE_JUGENDJAHRE', 'RETOURTYP_BK_S', 'SEMIO_SOZ', 'SEMIO_FAM', 'SEMIO_REL', 'SEMIO_MAT', 'SEMIO_VERT', 'SEMIO_LUST', 'SEMIO_ERL', 'SEMIO_KULT', 'SEMIO_RAT', 'SEMIO_KRIT', 'SEMIO_DOM', 'SEMIO_KAEM', 'SEMIO_PFLICHT', 'SEMIO_TRADV', 'SHOPPER_TYP', 'SOHO_KZ', 'TITEL_KZ', 'VERS_TYP', 'ZABEOTYP', 'ALTER_HH', 'ANZ_PERSONEN', 'ANZ_TITEL', 'HH_EINKOMMEN_SCORE', 'KK_KUNDENTYP', 'W_KEIT_KIND_HH', 'WOHNDAUER_2008', 'ANZ_HAUSHALTE_AKTIV', 'ANZ_HH_TITEL', 'GEBAEUDETYP', 'KONSUMNAEHE', 'MIN_GEBAEUDEJAHR', 'OST_WEST_KZ', 'WOHNLAGE', 'CAMEO_DEUG_2015', 'CAMEO_DEU_2015', 'CAMEO_INTL_2015', 'KBA05_ANTG1', 'KBA05_ANTG2', 'KBA05_ANTG3', 'KBA05_ANTG4', 'KBA05_BAUMAX', 'KBA05_GBZ', 'BALLRAUM', 'EWDICHTE', 'INNENSTADT', 'GEBAEUDETYP_RASTER', 'KKK', 'MOBI_REGIO', 'ONLINE_AFFINITAET', 'REGIOTYP', 'KBA13_ANZAHL_PKW', 'PLZ8_ANTG1', 'PLZ8_ANTG2', 'PLZ8_ANTG3', 'PLZ8_ANTG4', 'PLZ8_BAUMAX', 'PLZ8_HHZ', 'PLZ8_GBZ', 'ARBEIT', 'ORTSGR_KLS9', 'RELAT_AB']\n"
     ]
    }
   ],
   "source": [
    "print(name_list)"
   ]
  },
  {
   "cell_type": "code",
   "execution_count": 23,
   "metadata": {},
   "outputs": [
    {
     "name": "stdout",
     "output_type": "stream",
     "text": [
      "['Best-ager typology', 'Estimated age based on given name analysis', 'Gender', 'Customer-Journey-Typology: preferred information and buying channels for', 'Financial typology, for each dimension:', 'Financial typology, for each dimension:', 'Financial typology, for each dimension:', 'Financial typology, for each dimension:', 'Financial typology, for each dimension:', 'Financial typology, for each dimension:', 'Most descriptive financial type for individual', 'Year of birth', 'Vacation habits', 'Membership in environmental sustainability as part of youth', 'Health typology', 'Life stage, fine scale', 'Life stage, rough scale', 'Family type, fine scale', 'Family type, rough scale', 'Social status, fine scale', 'Social status, rough scale', 'Nationality based on given name analysis', \"Dominating movement of person's youth (avantgarde vs. mainstream; east vs. west)\", 'Return type', 'Personality typology, for each dimension:', 'Personality typology, for each dimension:', 'Personality typology, for each dimension:', 'Personality typology, for each dimension:', 'Personality typology, for each dimension:', 'Personality typology, for each dimension:', 'Personality typology, for each dimension:', 'Personality typology, for each dimension:', 'Personality typology, for each dimension:', 'Personality typology, for each dimension:', 'Personality typology, for each dimension:', 'Personality typology, for each dimension:', 'Personality typology, for each dimension:', 'Personality typology, for each dimension:', 'Shopper typology', 'Small office / home office flag', 'Academic title flag', 'Insurance typology', 'Energy consumption typology', 'Birthdate of head of household', 'Number of adults in household', 'Number of professional academic title holders in household', 'Estimated household net income', 'Consumer pattern over past 12 months', 'Likelihood of children in household', 'Length of residence', 'Number of households in the building', 'Number of professional academic title holders in building', 'Type of building (residential vs. commercial)', 'Distance from building to point of sale (PoS)', 'First year building was mentioned in the database', 'Building location via former East / West Germany (GDR / FRG)', 'Neighborhood quality (or rural flag)', 'German CAMEO: Wealth / Life Stage Typology, rough scale', 'German CAMEO: Wealth / Life Stage Typology, detailed scale', 'German CAMEO: Wealth / Life Stage Typology, mapped to international code', 'Number of 1-2 family houses in the microcell', 'Number of 3-5 family houses in the microcell', 'Number of 6-10 family houses in the microcell', 'Number of 10+ family houses in the microcell', 'Most common building type within the microcell', 'Number of buildings in the microcell', 'Distance to nearest urban center', 'Density of households per square kilometer', 'Distance to city center (downtown)', 'Ratio of residential to commercial activity', 'Purchasing power in region', 'Movement patterns', 'Online affinity', 'Neighborhood typology', 'Number of cars in the PLZ8 region', 'Number of 1-2 family houses in the PLZ8 region', 'Number of 3-5 family houses in the PLZ8 region', 'Number of 6-10 family houses in the PLZ8 region', 'Number of 10+ family houses in the PLZ8 region', 'Most common building type within the PLZ8 region', 'Number of households within the PLZ8 region', 'Number of buildings within the PLZ8 region', 'Share of unemployment in community', 'Size of community', 'Share of unemployment relative to county in which community is contained']\n"
     ]
    }
   ],
   "source": [
    "print(explanation_list)"
   ]
  },
  {
   "cell_type": "code",
   "execution_count": 29,
   "metadata": {},
   "outputs": [],
   "source": [
    "# Write to Text File\n",
    "with open('Data_Dictionary.csv', 'w') as file_obj:\n",
    "    # write header\n",
    "    file_obj.write(\"name\" + \"\\t\" + \"explanation\" + \"\\n\")\n",
    "    #    \n",
    "    cnt = 0\n",
    "    for name, explanation in zip(name_list, explanation_list):\n",
    "        cnt +=1\n",
    "        if cnt < len(name_list):\n",
    "            file_obj.write(name + \"\\t\" + explanation + \"\\n\")\n",
    "        else:\n",
    "            file_obj.write(name + \"\\t\" + explanation)\n",
    "    "
   ]
  },
  {
   "cell_type": "code",
   "execution_count": null,
   "metadata": {},
   "outputs": [],
   "source": []
  }
 ],
 "metadata": {
  "kernelspec": {
   "display_name": "Python 3",
   "language": "python",
   "name": "python3"
  },
  "language_info": {
   "codemirror_mode": {
    "name": "ipython",
    "version": 3
   },
   "file_extension": ".py",
   "mimetype": "text/x-python",
   "name": "python",
   "nbconvert_exporter": "python",
   "pygments_lexer": "ipython3",
   "version": "3.6.8"
  }
 },
 "nbformat": 4,
 "nbformat_minor": 2
}
