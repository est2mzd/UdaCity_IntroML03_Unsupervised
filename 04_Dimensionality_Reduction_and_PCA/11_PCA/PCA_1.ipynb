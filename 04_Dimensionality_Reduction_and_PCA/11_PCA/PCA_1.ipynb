{
 "cells": [
  {
   "cell_type": "markdown",
   "metadata": {},
   "source": [
    "### Your Turn\n",
    "\n",
    "In the previous video, you saw an example of working with some MNIST digits data.  The MNIST dataset can be found here: http://yann.lecun.com/exdb/mnist/.\n",
    "\n",
    "First, let's import the necessary libraries.  Notice there are also some imports from a file called `helper_functions`, which contains the functions used in the previous video."
   ]
  },
  {
   "cell_type": "code",
   "execution_count": 1,
   "metadata": {},
   "outputs": [
    {
     "name": "stderr",
     "output_type": "stream",
     "text": [
      "C:\\Users\\mbd_p\\Anaconda3\\envs\\UdaCity_01_Intro_ML\\lib\\site-packages\\sklearn\\ensemble\\weight_boosting.py:29: DeprecationWarning: numpy.core.umath_tests is an internal NumPy module and should not be imported. It will be removed in a future NumPy release.\n",
      "  from numpy.core.umath_tests import inner1d\n"
     ]
    }
   ],
   "source": [
    "import pandas as pd\n",
    "import numpy as np\n",
    "from sklearn.decomposition import PCA\n",
    "from sklearn.preprocessing import StandardScaler\n",
    "from sklearn.ensemble import RandomForestClassifier\n",
    "from sklearn.cross_validation import train_test_split\n",
    "from sklearn.metrics import confusion_matrix, accuracy_score\n",
    "\n",
    "import matplotlib.image as mpimg\n",
    "import matplotlib.pyplot as plt\n",
    "import seaborn as sns\n",
    "%matplotlib inline\n",
    "\n",
    "from time import time"
   ]
  },
  {
   "cell_type": "markdown",
   "metadata": {},
   "source": [
    "### UdaCity作成の関数"
   ]
  },
  {
   "cell_type": "code",
   "execution_count": 2,
   "metadata": {},
   "outputs": [],
   "source": [
    "from helper_functions import show_images, show_images_by_digit, fit_random_forest_classifier2 \n",
    "from helper_functions import fit_random_forest_classifier, do_pca, plot_components\n",
    "import test_code as t"
   ]
  },
  {
   "cell_type": "markdown",
   "metadata": {},
   "source": [
    "`1.` Use pandas to read in the dataset, which can be found in this workspace using the filepath **'./data/train.csv'**.  If you have missing values, fill them with 0.  Take a look at info about the data using `head`, `tail`, `describe`, `info`, etc.  You can learn more about the data values from the article here: https://homepages.inf.ed.ac.uk/rbf/HIPR2/value.htm."
   ]
  },
  {
   "cell_type": "code",
   "execution_count": 3,
   "metadata": {},
   "outputs": [
    {
     "name": "stdout",
     "output_type": "stream",
     "text": [
      "---------------------------\n",
      "type(df) = \n",
      " <class 'pandas.core.frame.DataFrame'>\n",
      "---------------------------\n",
      "df.head() = \n",
      "    label  pixel0  pixel1  pixel2  pixel3  pixel4  pixel5  pixel6  pixel7  \\\n",
      "0      1       0       0       0       0       0       0       0       0   \n",
      "1      0       0       0       0       0       0       0       0       0   \n",
      "2      1       0       0       0       0       0       0       0       0   \n",
      "3      4       0       0       0       0       0       0       0       0   \n",
      "4      0       0       0       0       0       0       0       0       0   \n",
      "\n",
      "   pixel8  ...  pixel774  pixel775  pixel776  pixel777  pixel778  pixel779  \\\n",
      "0       0  ...       0.0       0.0       0.0       0.0       0.0       0.0   \n",
      "1       0  ...       0.0       0.0       0.0       0.0       0.0       0.0   \n",
      "2       0  ...       0.0       0.0       0.0       0.0       0.0       0.0   \n",
      "3       0  ...       0.0       0.0       0.0       0.0       0.0       0.0   \n",
      "4       0  ...       0.0       0.0       0.0       0.0       0.0       0.0   \n",
      "\n",
      "   pixel780  pixel781  pixel782  pixel783  \n",
      "0       0.0       0.0       0.0       0.0  \n",
      "1       0.0       0.0       0.0       0.0  \n",
      "2       0.0       0.0       0.0       0.0  \n",
      "3       0.0       0.0       0.0       0.0  \n",
      "4       0.0       0.0       0.0       0.0  \n",
      "\n",
      "[5 rows x 785 columns]\n",
      "---------------------------\n",
      "df.describe() = \n",
      "              label  pixel0  pixel1  pixel2  pixel3  pixel4  pixel5  pixel6  \\\n",
      "count  6304.000000  6304.0  6304.0  6304.0  6304.0  6304.0  6304.0  6304.0   \n",
      "mean      4.440355     0.0     0.0     0.0     0.0     0.0     0.0     0.0   \n",
      "std       2.885613     0.0     0.0     0.0     0.0     0.0     0.0     0.0   \n",
      "min       0.000000     0.0     0.0     0.0     0.0     0.0     0.0     0.0   \n",
      "25%       2.000000     0.0     0.0     0.0     0.0     0.0     0.0     0.0   \n",
      "50%       4.000000     0.0     0.0     0.0     0.0     0.0     0.0     0.0   \n",
      "75%       7.000000     0.0     0.0     0.0     0.0     0.0     0.0     0.0   \n",
      "max       9.000000     0.0     0.0     0.0     0.0     0.0     0.0     0.0   \n",
      "\n",
      "       pixel7  pixel8  ...     pixel774     pixel775     pixel776  pixel777  \\\n",
      "count  6304.0  6304.0  ...  6304.000000  6304.000000  6304.000000    6304.0   \n",
      "mean      0.0     0.0  ...     0.139594     0.142291     0.026967       0.0   \n",
      "std       0.0     0.0  ...     5.099940     5.531089     1.675547       0.0   \n",
      "min       0.0     0.0  ...     0.000000     0.000000     0.000000       0.0   \n",
      "25%       0.0     0.0  ...     0.000000     0.000000     0.000000       0.0   \n",
      "50%       0.0     0.0  ...     0.000000     0.000000     0.000000       0.0   \n",
      "75%       0.0     0.0  ...     0.000000     0.000000     0.000000       0.0   \n",
      "max       0.0     0.0  ...   253.000000   253.000000   130.000000       0.0   \n",
      "\n",
      "       pixel778  pixel779  pixel780  pixel781  pixel782  pixel783  \n",
      "count    6304.0    6304.0    6304.0    6304.0    6304.0    6304.0  \n",
      "mean        0.0       0.0       0.0       0.0       0.0       0.0  \n",
      "std         0.0       0.0       0.0       0.0       0.0       0.0  \n",
      "min         0.0       0.0       0.0       0.0       0.0       0.0  \n",
      "25%         0.0       0.0       0.0       0.0       0.0       0.0  \n",
      "50%         0.0       0.0       0.0       0.0       0.0       0.0  \n",
      "75%         0.0       0.0       0.0       0.0       0.0       0.0  \n",
      "max         0.0       0.0       0.0       0.0       0.0       0.0  \n",
      "\n",
      "[8 rows x 785 columns]\n"
     ]
    }
   ],
   "source": [
    "df = pd.read_csv('./data/train.csv')\n",
    "\n",
    "# df に fillna の結果を反映させるために、inplace=Trueとする\n",
    "df.fillna(0, inplace=True)\n",
    "\n",
    "print(\"---------------------------\")\n",
    "print(\"type(df) = \\n\", type(df))\n",
    "\n",
    "print(\"---------------------------\")\n",
    "print(\"df.head() = \\n\", df.head())\n",
    "\n",
    "print(\"---------------------------\")\n",
    "print(\"df.describe() = \\n\", df.describe())"
   ]
  },
  {
   "cell_type": "markdown",
   "metadata": {},
   "source": [
    "`2.` Create a vector called y that holds the **label** column of the dataset.  Store all other columns holding the pixel data of your images in X."
   ]
  },
  {
   "cell_type": "code",
   "execution_count": 4,
   "metadata": {},
   "outputs": [],
   "source": [
    "y = df[\"label\"]\n",
    "X = df.drop(\"label\",axis=1)"
   ]
  },
  {
   "cell_type": "code",
   "execution_count": 5,
   "metadata": {},
   "outputs": [
    {
     "name": "stdout",
     "output_type": "stream",
     "text": [
      "That looks right!\n"
     ]
    }
   ],
   "source": [
    "#Check Your Solution \n",
    "t.question_two_check(y, X)"
   ]
  },
  {
   "cell_type": "markdown",
   "metadata": {},
   "source": [
    "`3.` Now use the `show_images_by_digit` function from the `helper_functions` module to take a look some of the `1`'s, `2`'s, `3`'s, or any other value you are interested in looking at.  Do they all look like what you would expect?"
   ]
  },
  {
   "cell_type": "code",
   "execution_count": 6,
   "metadata": {},
   "outputs": [
    {
     "data": {
      "image/png": "[encoded data removed]",
      "text/plain": [
       "<Figure size 432x288 with 50 Axes>"
      ]
     },
     "metadata": {},
     "output_type": "display_data"
    }
   ],
   "source": [
    "show_images_by_digit(2) # Try looking at a few other digits"
   ]
  },
  {
   "cell_type": "markdown",
   "metadata": {},
   "source": [
    "`4.` Now that you have had a chance to look through some of the data, you can try some different algorithms to see what works well to use the X matrix to predict the response well.  If you would like to use the function I used in the video regarding random forests, you can run the code below, but you might also try any of the supervised techniques you learned in the previous course to see what works best.\n",
    "\n",
    "If you decide to put together your own classifier, remember the 4 steps to this process:\n",
    "\n",
    "**I.** Instantiate your model. (with all the hyperparameter values you care about)\n",
    "\n",
    "**II.** Fit your model. (to the training data)\n",
    "\n",
    "**III.** Predict using your fitted model.  (on the test data)\n",
    "\n",
    "**IV.** Score your model. (comparing the predictions to the actual values on the test data)\n",
    "\n",
    "You can also try a grid search to see if you can improve on your initial predictions."
   ]
  },
  {
   "cell_type": "code",
   "execution_count": 7,
   "metadata": {},
   "outputs": [],
   "source": [
    "# Remove the tag to fit the RF model from the video, you can also try fitting your own!\n",
    "# fit_random_forest_classifier(X, y)\n",
    "\n",
    "def fit_random_forest_classifier(X,y,flag_print=0):\n",
    "    time_s = time()\n",
    "    X_train, X_test, y_train, y_test = train_test_split(X, y, test_size=0.33, random_state=42)\n",
    "    clf = RandomForestClassifier(n_estimators=100, max_depth=None)\n",
    "    clf.fit(X_train , y_train)\n",
    "    y_preds = clf.predict( X_test )\n",
    "    mat     = confusion_matrix(y_test, y_preds)\n",
    "    acc     = accuracy_score( y_preds, y_test)\n",
    "    dT      = time() - time_s\n",
    "    #\n",
    "    if flag_print:\n",
    "        print(\"---------------------------------\")\n",
    "        print(\"Model    = Random Forest\")\n",
    "        print(\"accuracy = {0:.3f}\".format(acc) )\n",
    "        print(\"Time[s]  = {:.1f}\".format( dT  ) )\n",
    "        print(\"Confusion Matrix = \\n\\n\", mat)\n",
    "    #\n",
    "    return acc, dT"
   ]
  },
  {
   "cell_type": "code",
   "execution_count": 8,
   "metadata": {},
   "outputs": [
    {
     "name": "stdout",
     "output_type": "stream",
     "text": [
      "---------------------------------\n",
      "Model    = Random Forest\n",
      "accuracy = 0.938\n",
      "Time[s]  = 1.8\n",
      "Confusion Matrix = \n",
      "\n",
      " [[201   0   1   0   0   0   6   0   1   0]\n",
      " [  0 235   3   1   0   0   1   2   1   0]\n",
      " [  1   4 215   0   1   1   1   4   0   1]\n",
      " [  3   0   7 171   0   5   0   1   1   3]\n",
      " [  0   0   1   0 172   0   1   0   0   4]\n",
      " [  3   2   0   4   0 171   4   0   2   0]\n",
      " [  3   0   1   0   1   2 203   0   1   0]\n",
      " [  0   0   6   1   4   0   0 208   2   4]\n",
      " [  1   1   0   7   1   2   0   0 188   2]\n",
      " [  2   0   0   3  10   0   0   1   5 187]]\n"
     ]
    }
   ],
   "source": [
    "fit_random_forest_classifier(X,y, flag_print=1);"
   ]
  },
  {
   "cell_type": "code",
   "execution_count": 9,
   "metadata": {},
   "outputs": [],
   "source": [
    "from sklearn import svm\n",
    "\n",
    "def fit_svm_classifier(X,y,flag_print=0):\n",
    "    time_s = time()\n",
    "    X_train, X_test, y_train, y_test = train_test_split(X, y, test_size=0.33, random_state=42)\n",
    "   #clf = svm.SVC(kernel='rbf', C=10, gamma=0.1)\n",
    "    clf = svm.SVC(kernel='rbf')\n",
    "    clf.fit(X_train , y_train)\n",
    "    y_preds = clf.predict( X_test )\n",
    "    mat     = confusion_matrix(y_test, y_preds)\n",
    "    acc     = accuracy_score( y_preds, y_test)\n",
    "    dT      = time() - time_s\n",
    "    #\n",
    "    if flag_print:\n",
    "        print(\"---------------------------------\")\n",
    "        print(\"Model    = SVM\")\n",
    "        print(\"accuracy = {0:.3f}\".format(acc) )\n",
    "        print(\"Time[s]  = {:.1f}\".format( dT ) )\n",
    "        print(\"Confusion Matrix = \\n\\n\", mat)\n",
    "    #\n",
    "    return acc, dT"
   ]
  },
  {
   "cell_type": "code",
   "execution_count": 10,
   "metadata": {},
   "outputs": [
    {
     "name": "stdout",
     "output_type": "stream",
     "text": [
      "---------------------------------\n",
      "Model    = SVM\n",
      "accuracy = 0.110\n",
      "Time[s]  = 40.2\n",
      "Confusion Matrix = \n",
      "\n",
      " [[  0   0 209   0   0   0   0   0   0   0]\n",
      " [  0   0 243   0   0   0   0   0   0   0]\n",
      " [  0   0 228   0   0   0   0   0   0   0]\n",
      " [  0   0 191   0   0   0   0   0   0   0]\n",
      " [  0   0 178   0   0   0   0   0   0   0]\n",
      " [  0   0 186   0   0   0   0   0   0   0]\n",
      " [  0   0 211   0   0   0   0   0   0   0]\n",
      " [  0   0 225   0   0   0   0   0   0   0]\n",
      " [  0   0 202   0   0   0   0   0   0   0]\n",
      " [  0   0 208   0   0   0   0   0   0   0]]\n"
     ]
    }
   ],
   "source": [
    "fit_svm_classifier(X,y, flag_print=1);"
   ]
  },
  {
   "cell_type": "markdown",
   "metadata": {},
   "source": [
    "`5.` Now for the purpose of this lesson, to look at PCA.  In the video, I created a model just using two features.  Replicate the process below. You can use the same `do_pca` function that was created in the previous video.  Store your variables in **pca** and **X_pca**."
   ]
  },
  {
   "cell_type": "code",
   "execution_count": 11,
   "metadata": {},
   "outputs": [],
   "source": [
    "def do_pca(n_components, data, flag_print=0):\n",
    "    time_s = time()\n",
    "    X     = StandardScaler().fit_transform(data)\n",
    "    pca   = PCA(n_components)\n",
    "    X_pca = pca.fit_transform(X)\n",
    "    dT      = time() - time_s    \n",
    "    #\n",
    "    if flag_print:\n",
    "        print(\"---------------------------------\")\n",
    "        print(\"Model    = PCA\")\n",
    "        print(\"Time[s]  = {:.1f}\".format( dT ) )    \n",
    "    #\n",
    "    return pca, X_pca"
   ]
  },
  {
   "cell_type": "code",
   "execution_count": 12,
   "metadata": {},
   "outputs": [
    {
     "name": "stdout",
     "output_type": "stream",
     "text": [
      "---------------------------------\n",
      "Model    = PCA\n",
      "Time[s]  = 0.5\n"
     ]
    }
   ],
   "source": [
    "pca, X_pca = do_pca( 2, X, flag_print=1)"
   ]
  },
  {
   "cell_type": "markdown",
   "metadata": {},
   "source": [
    "`6.` The **X_pca** has reduced the original number of more than 700 features down to only 2 features that capture the majority of the variability in the pixel values.  Use the space below to fit a model using these two features to predict the written value.  You can use the random forest model by running `fit_random_forest_classifier` the same way as in the video. How well does it perform?"
   ]
  },
  {
   "cell_type": "code",
   "execution_count": 13,
   "metadata": {},
   "outputs": [
    {
     "name": "stdout",
     "output_type": "stream",
     "text": [
      "---------------------------------\n",
      "Model    = Random Forest\n",
      "accuracy = 0.348\n",
      "Time[s]  = 0.6\n",
      "Confusion Matrix = \n",
      "\n",
      " [[113   0  39  10   6  10  24   0   7   0]\n",
      " [  0 207   0   4   2   6   5   5   9   5]\n",
      " [ 36   2  73  26  13  24  34   0  15   5]\n",
      " [ 10   2  30  24  22  31  26  11  20  15]\n",
      " [  7   4  18  14  49  19  14  10  16  27]\n",
      " [  8   8  33  23  17  22  27   5  35   8]\n",
      " [ 29   4  53  17  11  29  38   2  27   1]\n",
      " [  3   3   2   9  34   7   2  92  10  63]\n",
      " [  8   6  27  28  20  28  29   6  39  11]\n",
      " [  2  12   4  17  29  10   5  52  10  67]]\n"
     ]
    }
   ],
   "source": [
    "fit_random_forest_classifier(X_pca , y, flag_print=1);"
   ]
  },
  {
   "cell_type": "code",
   "execution_count": 14,
   "metadata": {},
   "outputs": [
    {
     "name": "stdout",
     "output_type": "stream",
     "text": [
      "---------------------------------\n",
      "Model    = SVM\n",
      "accuracy = 0.378\n",
      "Time[s]  = 0.8\n",
      "Confusion Matrix = \n",
      "\n",
      " [[123   0  47   4   6   6  19   0   4   0]\n",
      " [  0 220   2   0   1   4   1   4   9   2]\n",
      " [ 44   2 108   7  13  17  25   3   8   1]\n",
      " [  6   1  57  11  29  19  22  10  25  11]\n",
      " [  4   5  20  13  65  11  11  10   8  31]\n",
      " [  4   8  48  10  17  20  15   5  54   5]\n",
      " [ 33   5  78   7   7  22  23   0  36   0]\n",
      " [  1   8   5   6  37   5   2  87   9  65]\n",
      " [  6   8  43  17  33  29  13   3  45   5]\n",
      " [  1  17   6   4  48   9   2  34   3  84]]\n"
     ]
    }
   ],
   "source": [
    "fit_svm_classifier(X_pca , y, flag_print=1);"
   ]
  },
  {
   "cell_type": "markdown",
   "metadata": {},
   "source": [
    "<h3>上記より下記が分かる\n",
    "    <li>PCAで自由度を削減したら、Random ForestもSVMも処理時間が短縮されている</li>\n",
    "    <li>SVMは特に、30秒以上かかっていたものが、1秒未満になっている　且つ　精度が向上している</li>\n",
    "</h3>"
   ]
  },
  {
   "cell_type": "markdown",
   "metadata": {},
   "source": [
    "`7.` Now you can look at the separation of the values using the `plot_components` function.  If you plot all of the points (more than 40,000), you will likely not be able to see much of what is happening.  I recommend plotting just a subset of the data.  Which value(s) have some separation that are being predicted better than others based on these two components?"
   ]
  },
  {
   "cell_type": "code",
   "execution_count": 15,
   "metadata": {},
   "outputs": [
    {
     "data": {
      "image/png": "[encoded data removed]",
      "text/plain": [
       "<Figure size 720x432 with 1 Axes>"
      ]
     },
     "metadata": {},
     "output_type": "display_data"
    }
   ],
   "source": [
    "# Try plotting some of the numbers below - you can change the number\n",
    "# of digits that are plotted, but it is probably best not to plot the \n",
    "# entire dataset.  Your visual will not be readable.\n",
    "plot_components(X_pca[:100], y[:100])"
   ]
  },
  {
   "cell_type": "markdown",
   "metadata": {},
   "source": [
    "`8.` See if you can find a reduced number of features that provides better separation to make predictions.  Say you want to get separation that allows for accuracy of more than 90%, how many principal components are needed to obtain this level of accuracy?  Were you able to substantially reduce the number of features needed in your final model?"
   ]
  },
  {
   "cell_type": "code",
   "execution_count": 16,
   "metadata": {},
   "outputs": [
    {
     "name": "stdout",
     "output_type": "stream",
     "text": [
      "Now n =  2\n",
      "Now n =  4\n",
      "Now n =  6\n",
      "Now n =  10\n",
      "Now n =  50\n",
      "Now n =  200\n",
      "Now n =  400\n",
      "Now n =  600\n"
     ]
    }
   ],
   "source": [
    "list_n = [2,4,6,10,50,200, 400, 600]\n",
    "list_time_r = []\n",
    "list_time_s = []\n",
    "list_acc_r  = []\n",
    "list_acc_s  = []\n",
    "#\n",
    "for n in list_n:\n",
    "    print(\"Now n = \", n)\n",
    "    pca, X_pca = do_pca( n, X, flag_print=0)\n",
    "    acc1, dT1  = fit_random_forest_classifier(X_pca, y, flag_print=0);\n",
    "    acc2, dT2  = fit_svm_classifier(X_pca, y, flag_print=0);\n",
    "    #\n",
    "    list_time_r.append(dT1)\n",
    "    list_time_s.append(dT2)\n",
    "    list_acc_r.append(acc1)\n",
    "    list_acc_s.append(acc2)"
   ]
  },
  {
   "cell_type": "code",
   "execution_count": 17,
   "metadata": {},
   "outputs": [
    {
     "data": {
      "text/plain": [
       "Text(0.5, 1.0, 'Time[s]')"
      ]
     },
     "execution_count": 17,
     "metadata": {},
     "output_type": "execute_result"
    },
    {
     "data": {
      "image/png": "[encoded data removed]",
      "text/plain": [
       "<Figure size 864x288 with 2 Axes>"
      ]
     },
     "metadata": {
      "needs_background": "light"
     },
     "output_type": "display_data"
    }
   ],
   "source": [
    "plt.rcParams['figure.figsize'] = (12,4)\n",
    "plt.figure\n",
    "plt.subplot(1,2,1)\n",
    "plt.plot(list_n, list_acc_r, 'ro-');\n",
    "plt.plot(list_n, list_acc_s, 'bo-');\n",
    "plt.legend(['RF', 'SVM']);\n",
    "plt.grid();\n",
    "plt.xlabel('n for PCA')\n",
    "plt.title('Accuracy')\n",
    "plt.ylim(0, 1)\n",
    "#\n",
    "plt.subplot(1,2,2)\n",
    "plt.plot(list_n, list_time_r, 'ro-');\n",
    "plt.plot(list_n, list_time_s, 'bo-');\n",
    "plt.legend(['RF', 'SVM']);\n",
    "plt.grid();\n",
    "plt.xlabel('n for PCA')\n",
    "plt.title('Time[s]')"
   ]
  },
  {
   "cell_type": "markdown",
   "metadata": {},
   "source": [
    "`9.` It is possible that extra features in the dataset even lead to overfitting or the [curse of dimensionality](https://stats.stackexchange.com/questions/65379/machine-learning-curse-of-dimensionality-explained).  Do you have evidence of this happening for this dataset?  Can you support your evidence with a visual or table?  To avoid printing out all of the metric results, I created another function called `fit_random_forest_classifier2`.  I ran through a significant number of components to create the visual for the solution, but I strongly recommend you look in the range below 100 principal components!"
   ]
  },
  {
   "cell_type": "code",
   "execution_count": 18,
   "metadata": {},
   "outputs": [
    {
     "name": "stdout",
     "output_type": "stream",
     "text": [
      "n = 2 , acc = 0.340, time = 0.7\n",
      "n = 9 , acc = 0.850, time = 1.1\n",
      "n = 16 , acc = 0.884, time = 1.3\n",
      "n = 23 , acc = 0.896, time = 1.2\n",
      "n = 30 , acc = 0.900, time = 1.5\n",
      "n = 37 , acc = 0.907, time = 1.8\n",
      "n = 44 , acc = 0.900, time = 1.8\n",
      "n = 51 , acc = 0.904, time = 2.1\n",
      "n = 58 , acc = 0.900, time = 2.1\n",
      "n = 66 , acc = 0.900, time = 2.3\n",
      "n = 73 , acc = 0.910, time = 2.2\n",
      "n = 80 , acc = 0.901, time = 2.2\n",
      "n = 87 , acc = 0.906, time = 2.4\n",
      "n = 94 , acc = 0.901, time = 2.5\n",
      "n = 101 , acc = 0.889, time = 2.7\n",
      "n = 108 , acc = 0.899, time = 2.7\n",
      "n = 115 , acc = 0.905, time = 2.7\n",
      "n = 123 , acc = 0.901, time = 3.0\n",
      "n = 130 , acc = 0.892, time = 2.9\n",
      "n = 137 , acc = 0.890, time = 3.0\n",
      "n = 144 , acc = 0.896, time = 3.2\n",
      "n = 151 , acc = 0.900, time = 3.2\n",
      "n = 158 , acc = 0.897, time = 3.2\n",
      "n = 165 , acc = 0.889, time = 3.3\n",
      "n = 172 , acc = 0.894, time = 3.5\n",
      "n = 180 , acc = 0.892, time = 3.5\n",
      "n = 187 , acc = 0.894, time = 3.6\n",
      "n = 194 , acc = 0.887, time = 3.6\n",
      "n = 201 , acc = 0.891, time = 3.8\n",
      "n = 208 , acc = 0.889, time = 3.8\n",
      "n = 215 , acc = 0.887, time = 3.8\n",
      "n = 222 , acc = 0.883, time = 3.8\n",
      "n = 229 , acc = 0.887, time = 3.9\n",
      "n = 237 , acc = 0.886, time = 3.8\n",
      "n = 244 , acc = 0.887, time = 3.9\n",
      "n = 251 , acc = 0.879, time = 3.9\n",
      "n = 258 , acc = 0.888, time = 4.1\n",
      "n = 265 , acc = 0.882, time = 4.1\n",
      "n = 272 , acc = 0.885, time = 4.3\n",
      "n = 279 , acc = 0.886, time = 4.2\n",
      "n = 286 , acc = 0.885, time = 4.2\n",
      "n = 294 , acc = 0.883, time = 4.5\n",
      "n = 301 , acc = 0.884, time = 4.5\n",
      "n = 308 , acc = 0.877, time = 4.5\n",
      "n = 315 , acc = 0.878, time = 4.5\n",
      "n = 322 , acc = 0.875, time = 4.5\n",
      "n = 329 , acc = 0.878, time = 4.7\n",
      "n = 336 , acc = 0.873, time = 4.8\n",
      "n = 343 , acc = 0.878, time = 5.0\n",
      "n = 351 , acc = 0.877, time = 4.9\n",
      "n = 358 , acc = 0.872, time = 5.2\n",
      "n = 365 , acc = 0.869, time = 5.3\n",
      "n = 372 , acc = 0.873, time = 5.2\n",
      "n = 379 , acc = 0.879, time = 5.2\n",
      "n = 386 , acc = 0.875, time = 5.2\n",
      "n = 393 , acc = 0.874, time = 5.3\n",
      "n = 400 , acc = 0.874, time = 5.5\n",
      "n = 407 , acc = 0.876, time = 5.4\n",
      "n = 415 , acc = 0.870, time = 5.5\n",
      "n = 422 , acc = 0.878, time = 5.5\n",
      "n = 429 , acc = 0.868, time = 5.5\n",
      "n = 436 , acc = 0.870, time = 5.5\n",
      "n = 443 , acc = 0.875, time = 5.6\n",
      "n = 450 , acc = 0.871, time = 5.6\n",
      "n = 457 , acc = 0.874, time = 5.6\n",
      "n = 464 , acc = 0.869, time = 5.6\n",
      "n = 472 , acc = 0.863, time = 5.4\n",
      "n = 479 , acc = 0.869, time = 5.5\n",
      "n = 486 , acc = 0.874, time = 5.7\n",
      "n = 493 , acc = 0.869, time = 5.7\n",
      "n = 500 , acc = 0.864, time = 5.8\n",
      "n = 507 , acc = 0.864, time = 5.7\n",
      "n = 514 , acc = 0.866, time = 5.7\n",
      "n = 521 , acc = 0.867, time = 5.7\n",
      "n = 529 , acc = 0.866, time = 6.0\n",
      "n = 536 , acc = 0.864, time = 5.9\n",
      "n = 543 , acc = 0.867, time = 6.0\n",
      "n = 550 , acc = 0.866, time = 6.0\n",
      "n = 557 , acc = 0.862, time = 5.9\n",
      "n = 564 , acc = 0.863, time = 6.0\n",
      "n = 571 , acc = 0.858, time = 5.9\n",
      "n = 578 , acc = 0.864, time = 6.2\n",
      "n = 586 , acc = 0.871, time = 6.4\n",
      "n = 593 , acc = 0.856, time = 6.2\n",
      "n = 600 , acc = 0.869, time = 6.2\n",
      "n = 607 , acc = 0.863, time = 6.2\n",
      "n = 614 , acc = 0.864, time = 6.3\n",
      "n = 621 , acc = 0.855, time = 6.3\n",
      "n = 628 , acc = 0.867, time = 6.5\n",
      "n = 635 , acc = 0.856, time = 6.5\n",
      "n = 643 , acc = 0.855, time = 6.5\n",
      "n = 650 , acc = 0.856, time = 6.5\n",
      "n = 657 , acc = 0.853, time = 6.5\n",
      "n = 664 , acc = 0.855, time = 6.5\n",
      "n = 671 , acc = 0.863, time = 6.4\n",
      "n = 678 , acc = 0.857, time = 6.6\n",
      "n = 685 , acc = 0.862, time = 6.7\n",
      "n = 692 , acc = 0.868, time = 6.7\n",
      "n = 700 , acc = 0.853, time = 6.7\n"
     ]
    }
   ],
   "source": [
    "import numpy as np\n",
    "Ns    = np.linspace(2,700,99)\n",
    "accs  = []\n",
    "comps = []\n",
    "times = []\n",
    "flag_print = 1\n",
    "#\n",
    "for n in Ns:\n",
    "    n = int(n)\n",
    "    comps.append(n)\n",
    "    pca, X_pca = do_pca(n, X)\n",
    "    acc, dT = fit_random_forest_classifier(X_pca, y)\n",
    "    accs.append(acc)\n",
    "    times.append(dT)\n",
    "    #\n",
    "    if flag_print:\n",
    "        print(\"n = {0:.0f} , acc = {1:.3f}, time = {2:.1f}\".format(n ,acc, dT))\n",
    "    #    "
   ]
  },
  {
   "cell_type": "markdown",
   "metadata": {},
   "source": [
    " "
   ]
  },
  {
   "cell_type": "code",
   "execution_count": 19,
   "metadata": {},
   "outputs": [
    {
     "data": {
      "image/png": "[encoded data removed]",
      "text/plain": [
       "<Figure size 864x288 with 1 Axes>"
      ]
     },
     "metadata": {
      "needs_background": "light"
     },
     "output_type": "display_data"
    }
   ],
   "source": [
    "plt.plot(comps, accs, 'bo-');\n",
    "plt.xlabel('Number of Components');\n",
    "plt.ylabel('Accuracy');\n",
    "plt.title('Number of Components by Accuracy');"
   ]
  },
  {
   "cell_type": "code",
   "execution_count": 20,
   "metadata": {},
   "outputs": [
    {
     "data": {
      "text/plain": [
       "(0.9096588178760211, 73)"
      ]
     },
     "execution_count": 20,
     "metadata": {},
     "output_type": "execute_result"
    }
   ],
   "source": [
    "# The max accuracy and corresponding number of components\n",
    "np.max(accs), comps[np.where(accs == np.max(accs))[0][0]]"
   ]
  },
  {
   "cell_type": "markdown",
   "metadata": {},
   "source": [
    "<h3>\n",
    "    <li>Here you can see that the accuracy quickly levels off.</li>\n",
    "    <li>The maximum accuracy is actually acheived at 61 principal components.</li>\n",
    "    <li>Given the slight negative trend also indicates that the final components are mostly containing noise.</li>\n",
    "    <li>The 61 components here contain the information needed to be able to <br> \n",
    "        determine the images nearly to the same ability as using the entire image.</li>\n",
    "    <li>Next, let's take a closer look at exactly what other information we get from PCA, and how we can interpret it.</li>    \n",
    "</h3>"
   ]
  },
  {
   "cell_type": "code",
   "execution_count": null,
   "metadata": {},
   "outputs": [],
   "source": []
  }
 ],
 "metadata": {
  "kernelspec": {
   "display_name": "Python 3",
   "language": "python",
   "name": "python3"
  },
  "language_info": {
   "codemirror_mode": {
    "name": "ipython",
    "version": 3
   },
   "file_extension": ".py",
   "mimetype": "text/x-python",
   "name": "python",
   "nbconvert_exporter": "python",
   "pygments_lexer": "ipython3",
   "version": "3.6.8"
  }
 },
 "nbformat": 4,
 "nbformat_minor": 2
}
