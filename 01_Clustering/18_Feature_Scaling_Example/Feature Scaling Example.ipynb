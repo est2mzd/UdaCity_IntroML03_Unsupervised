{
 "cells": [
  {
   "cell_type": "markdown",
   "metadata": {},
   "source": [
    "### Feature Scaling Example\n",
    "\n",
    "You have now seen how feature scaling might change the clusters we obtain from the kmeans algorithm, but it is time to try it out!\n",
    "\n",
    "First let's get some data to work with.  The first cell here will read in the necessary libraries, generate data, and make a plot of the data you will be working with throughout the rest of the notebook.\n",
    "\n",
    "The dataset you will work with through the notebook is then stored in **data**.  "
   ]
  },
  {
   "cell_type": "code",
   "execution_count": 1,
   "metadata": {},
   "outputs": [],
   "source": [
    "import numpy as np\n",
    "import pandas as pd\n",
    "import matplotlib.pyplot as plt\n",
    "import seaborn as sns\n",
    "from sklearn.cluster import KMeans\n",
    "from IPython.display import Image\n",
    "from sklearn.datasets.samples_generator import make_blobs\n",
    "import tests2 as t\n",
    "\n",
    "%matplotlib inline"
   ]
  },
  {
   "cell_type": "code",
   "execution_count": 2,
   "metadata": {},
   "outputs": [],
   "source": [
    "# DSND colors: UBlue, Salmon, Gold, Slate\n",
    "plot_colors = ['#02b3e4', '#ee2e76', '#ffb613', '#2e3d49']\n",
    "\n",
    "# Light colors: Blue light, Salmon light\n",
    "plot_lcolors = ['#88d0f3', '#ed8ca1', '#fdd270']\n",
    "\n",
    "# Gray/bg colors: Slate Dark, Gray, Silver\n",
    "plot_grays = ['#1c262f', '#aebfd1', '#fafbfc']"
   ]
  },
  {
   "cell_type": "code",
   "execution_count": 3,
   "metadata": {},
   "outputs": [],
   "source": [
    "def create_data():\n",
    "    # Size = 120 x 2 、　範囲：-3～+3、　絶対値　のデータを作成\n",
    "    n_points = 120\n",
    "    X = np.random.RandomState(3200000).uniform(-3, 3, [n_points, 2])\n",
    "    X_abs = np.absolute(X)\n",
    "\n",
    "    # 1.2 未満のデータを検索 : True/Falseのデータ\n",
    "    inner_ring_flag = np.logical_and(X_abs[:,0] < 1.2, X_abs[:,1] < 1.2)\n",
    "    \n",
    "    # 2列の和が　5.3 より大きいデータを検索 : True/Falseのデータ\n",
    "    outer_ring_flag = X_abs.sum(axis = 1) > 5.3\n",
    "    \n",
    "    # NOR : http://www.asahi-net.or.jp/~ax2s-kmtn/ref/logicope.html\n",
    "    keep = np.logical_not(np.logical_or(inner_ring_flag, outer_ring_flag))\n",
    "    X    = X[keep]\n",
    "    \n",
    "    # データをカット　：　Size = 60 X 2\n",
    "    X = X[:60] # only keep first 60\n",
    "    \n",
    "    # X1 = X * W + B　という計算を実行\n",
    "    X1 = np.matmul(X, np.array([[2.5, 0], [0, 100]])) + np.array([22.5, 500])\n",
    "    \n",
    "    # nd_array -> DataFrame に変換し、列名を定義\n",
    "    data = pd.DataFrame(X1)\n",
    "    data.columns = ['5k_Time', 'Raw_Test_Score']   \n",
    "    return data"
   ]
  },
  {
   "cell_type": "code",
   "execution_count": 4,
   "metadata": {},
   "outputs": [],
   "source": [
    "def plot_data(data):\n",
    "   #plt.figure(figsize = [15,15])\n",
    "    plt.figure()\n",
    "    font_size = 14\n",
    "    \n",
    "    # DataFrame -> nd_array\n",
    "    X = data.iloc[:,0].values\n",
    "    Y = data.iloc[:,1].values\n",
    "    \n",
    "    # 散布図\n",
    "    plt.scatter( X , Y, s = 64, c = plot_colors[-1])\n",
    "\n",
    "    plt.xlabel('5k Completion Time (min)', size = font_size)\n",
    "    plt.xticks(np.arange(15, 30+5, 5), fontsize = font_size)\n",
    "    plt.ylabel('Test Score (raw)', size = font_size)\n",
    "    plt.yticks(np.arange(200, 800+200, 200), fontsize = font_size)\n",
    "    plt.grid()\n",
    "    ax = plt.gca()\n",
    "    \n",
    "    # top　と　right　の　枠線を消す\n",
    "    ax.spines['top'].set_visible(False)\n",
    "    ax.spines['right'].set_visible(False)\n",
    "    \n",
    "    # line　の　幅を設定\n",
    "    [side.set_linewidth(2) for side in ax.spines.values()]\n",
    "    \n",
    "    # 分割線　の　幅を設定\n",
    "    ax.tick_params(width = 2)\n",
    "    \n",
    "    # 画像の保存\n",
    "    plt.savefig('C18_FeatScalingEx_01.png', transparent = True)"
   ]
  },
  {
   "cell_type": "code",
   "execution_count": 5,
   "metadata": {},
   "outputs": [
    {
     "data": {
      "text/html": [
       "<div>\n",
       "<style scoped>\n",
       "    .dataframe tbody tr th:only-of-type {\n",
       "        vertical-align: middle;\n",
       "    }\n",
       "\n",
       "    .dataframe tbody tr th {\n",
       "        vertical-align: top;\n",
       "    }\n",
       "\n",
       "    .dataframe thead th {\n",
       "        text-align: right;\n",
       "    }\n",
       "</style>\n",
       "<table border=\"1\" class=\"dataframe\">\n",
       "  <thead>\n",
       "    <tr style=\"text-align: right;\">\n",
       "      <th></th>\n",
       "      <th>5k_Time</th>\n",
       "      <th>Raw_Test_Score</th>\n",
       "    </tr>\n",
       "  </thead>\n",
       "  <tbody>\n",
       "    <tr>\n",
       "      <th>count</th>\n",
       "      <td>60.000000</td>\n",
       "      <td>60.000000</td>\n",
       "    </tr>\n",
       "    <tr>\n",
       "      <th>mean</th>\n",
       "      <td>22.899027</td>\n",
       "      <td>511.699603</td>\n",
       "    </tr>\n",
       "    <tr>\n",
       "      <th>std</th>\n",
       "      <td>4.536244</td>\n",
       "      <td>183.222427</td>\n",
       "    </tr>\n",
       "    <tr>\n",
       "      <th>min</th>\n",
       "      <td>15.263902</td>\n",
       "      <td>206.597283</td>\n",
       "    </tr>\n",
       "    <tr>\n",
       "      <th>25%</th>\n",
       "      <td>18.820638</td>\n",
       "      <td>361.798208</td>\n",
       "    </tr>\n",
       "    <tr>\n",
       "      <th>50%</th>\n",
       "      <td>24.033613</td>\n",
       "      <td>545.795365</td>\n",
       "    </tr>\n",
       "    <tr>\n",
       "      <th>75%</th>\n",
       "      <td>26.956643</td>\n",
       "      <td>656.346547</td>\n",
       "    </tr>\n",
       "    <tr>\n",
       "      <th>max</th>\n",
       "      <td>29.867819</td>\n",
       "      <td>797.599192</td>\n",
       "    </tr>\n",
       "  </tbody>\n",
       "</table>\n",
       "</div>"
      ],
      "text/plain": [
       "         5k_Time  Raw_Test_Score\n",
       "count  60.000000       60.000000\n",
       "mean   22.899027      511.699603\n",
       "std     4.536244      183.222427\n",
       "min    15.263902      206.597283\n",
       "25%    18.820638      361.798208\n",
       "50%    24.033613      545.795365\n",
       "75%    26.956643      656.346547\n",
       "max    29.867819      797.599192"
      ]
     },
     "execution_count": 5,
     "metadata": {},
     "output_type": "execute_result"
    }
   ],
   "source": [
    "data = create_data()\n",
    "data.describe()"
   ]
  },
  {
   "cell_type": "code",
   "execution_count": 6,
   "metadata": {},
   "outputs": [
    {
     "data": {
      "image/png": "[encoded data removed]",
      "text/plain": [
       "<Figure size 432x288 with 1 Axes>"
      ]
     },
     "metadata": {
      "needs_background": "light"
     },
     "output_type": "display_data"
    }
   ],
   "source": [
    "plot_data(data)"
   ]
  },
  {
   "cell_type": "markdown",
   "metadata": {},
   "source": [
    "`1.` Take a look at the dataset.  Are there any missing values?  What is the average completion time?  What is the average raw test score?  Use the cells below to find the answers to these questions, and the dictioonary to match values and check against our solution."
   ]
  },
  {
   "cell_type": "code",
   "execution_count": 7,
   "metadata": {},
   "outputs": [
    {
     "name": "stdout",
     "output_type": "stream",
     "text": [
      "<class 'pandas.core.frame.DataFrame'>\n",
      "RangeIndex: 60 entries, 0 to 59\n",
      "Data columns (total 2 columns):\n",
      "5k_Time           60 non-null float64\n",
      "Raw_Test_Score    60 non-null float64\n",
      "dtypes: float64(2)\n",
      "memory usage: 1.0 KB\n"
     ]
    }
   ],
   "source": [
    "# cell for work\n",
    "data.info()"
   ]
  },
  {
   "cell_type": "code",
   "execution_count": 8,
   "metadata": {},
   "outputs": [
    {
     "data": {
      "text/html": [
       "<div>\n",
       "<style scoped>\n",
       "    .dataframe tbody tr th:only-of-type {\n",
       "        vertical-align: middle;\n",
       "    }\n",
       "\n",
       "    .dataframe tbody tr th {\n",
       "        vertical-align: top;\n",
       "    }\n",
       "\n",
       "    .dataframe thead th {\n",
       "        text-align: right;\n",
       "    }\n",
       "</style>\n",
       "<table border=\"1\" class=\"dataframe\">\n",
       "  <thead>\n",
       "    <tr style=\"text-align: right;\">\n",
       "      <th></th>\n",
       "      <th>5k_Time</th>\n",
       "      <th>Raw_Test_Score</th>\n",
       "    </tr>\n",
       "  </thead>\n",
       "  <tbody>\n",
       "    <tr>\n",
       "      <th>count</th>\n",
       "      <td>60.000000</td>\n",
       "      <td>60.000000</td>\n",
       "    </tr>\n",
       "    <tr>\n",
       "      <th>mean</th>\n",
       "      <td>22.899027</td>\n",
       "      <td>511.699603</td>\n",
       "    </tr>\n",
       "    <tr>\n",
       "      <th>std</th>\n",
       "      <td>4.536244</td>\n",
       "      <td>183.222427</td>\n",
       "    </tr>\n",
       "    <tr>\n",
       "      <th>min</th>\n",
       "      <td>15.263902</td>\n",
       "      <td>206.597283</td>\n",
       "    </tr>\n",
       "    <tr>\n",
       "      <th>25%</th>\n",
       "      <td>18.820638</td>\n",
       "      <td>361.798208</td>\n",
       "    </tr>\n",
       "    <tr>\n",
       "      <th>50%</th>\n",
       "      <td>24.033613</td>\n",
       "      <td>545.795365</td>\n",
       "    </tr>\n",
       "    <tr>\n",
       "      <th>75%</th>\n",
       "      <td>26.956643</td>\n",
       "      <td>656.346547</td>\n",
       "    </tr>\n",
       "    <tr>\n",
       "      <th>max</th>\n",
       "      <td>29.867819</td>\n",
       "      <td>797.599192</td>\n",
       "    </tr>\n",
       "  </tbody>\n",
       "</table>\n",
       "</div>"
      ],
      "text/plain": [
       "         5k_Time  Raw_Test_Score\n",
       "count  60.000000       60.000000\n",
       "mean   22.899027      511.699603\n",
       "std     4.536244      183.222427\n",
       "min    15.263902      206.597283\n",
       "25%    18.820638      361.798208\n",
       "50%    24.033613      545.795365\n",
       "75%    26.956643      656.346547\n",
       "max    29.867819      797.599192"
      ]
     },
     "execution_count": 8,
     "metadata": {},
     "output_type": "execute_result"
    }
   ],
   "source": [
    "# another cell for work\n",
    "data.describe()"
   ]
  },
  {
   "cell_type": "code",
   "execution_count": 9,
   "metadata": {},
   "outputs": [
    {
     "name": "stdout",
     "output_type": "stream",
     "text": [
      "That looks right!\n"
     ]
    }
   ],
   "source": [
    "# Use the dictionary to match the values to the corresponding statements\n",
    "a = 0\n",
    "b = 60\n",
    "c = 22.9\n",
    "d = 4.53\n",
    "e = 511.7\n",
    "\n",
    "q1_dict = {\n",
    "'number of missing values':             a, # letter here,\n",
    "'the mean 5k time in minutes':          c, # letter here,    \n",
    "'the mean test score as a raw value':   e, # letter here,\n",
    "'number of individuals in the dataset': b  # letter here\n",
    "}\n",
    "\n",
    "# check your answer against ours here\n",
    "t.check_q1(q1_dict)"
   ]
  },
  {
   "cell_type": "markdown",
   "metadata": {},
   "source": [
    "`2.` Now, instantiate a kmeans `model` with 2 cluster centers.  Use your model to `fit` and `predict` the the group of each point in your dataset.  Store the predictions in `preds`.  If you correctly created the model and predictions, you should see a top (blue) cluster and bottom (pink) cluster when running the following cell."
   ]
  },
  {
   "cell_type": "code",
   "execution_count": 10,
   "metadata": {},
   "outputs": [
    {
     "name": "stdout",
     "output_type": "stream",
     "text": [
      "preds = \n",
      " [0 0 1 1 0 0 0 1 1 1 1 0 0 1 0 1 1 0 1 1 1 1 1 1 0 1 0 0 0 1 1 1 0 0 0 0 0\n",
      " 1 1 1 0 1 1 0 0 1 0 1 0 1 1 0 1 1 1 0 0 0 1 0]\n"
     ]
    }
   ],
   "source": [
    "# モデル作成\n",
    "model = KMeans( n_clusters = 2)\n",
    "\n",
    "# Fit　と　Predict　を同時実行\n",
    "preds = model.fit_predict(data)\n",
    "print(\"preds = \\n\", preds)"
   ]
  },
  {
   "cell_type": "code",
   "execution_count": 11,
   "metadata": {},
   "outputs": [],
   "source": [
    "# data = 元データ\n",
    "# preds = 予測結果：分類番号\n",
    "# n_clusters = 中心の数\n",
    "def plot_clusters(data, preds, n_clusters):\n",
    "    #plt.figure(figsize = [15,15])\n",
    "    font_size = 14\n",
    "\n",
    "    for k, col in zip( range(n_clusters), plot_colors[ : n_clusters ]):\n",
    "        # preds == k　を検索、True/Falseが返る\n",
    "        my_members = (preds == k)\n",
    "        \n",
    "        # s = marker_size  / c = color_type、上で決めたセルの文字列を参照\n",
    "        plt.scatter(data['5k_Time'][my_members], data['Raw_Test_Score'][my_members], s = 64, c = col)\n",
    "\n",
    "    plt.xlabel('5k Completion Time (min)', size = font_size)\n",
    "    plt.xticks(np.arange(15, 30+5, 5), fontsize = font_size)\n",
    "    plt.ylabel('Test Score (raw)', size = font_size)\n",
    "    plt.yticks(np.arange(200, 800+200, 200), fontsize = font_size)\n",
    "\n",
    "    ax = plt.gca()\n",
    "    ax.spines['top'].set_visible(False)\n",
    "    ax.spines['right'].set_visible(False)\n",
    "    [side.set_linewidth(2) for side in ax.spines.values()]\n",
    "    ax.tick_params(width = 2)"
   ]
  },
  {
   "cell_type": "code",
   "execution_count": 12,
   "metadata": {},
   "outputs": [
    {
     "data": {
      "image/png": "[encoded data removed]",
      "text/plain": [
       "<Figure size 432x288 with 1 Axes>"
      ]
     },
     "metadata": {
      "needs_background": "light"
     },
     "output_type": "display_data"
    }
   ],
   "source": [
    "plot_clusters(data, preds, 2)"
   ]
  },
  {
   "cell_type": "markdown",
   "metadata": {},
   "source": [
    "`3.` Now create two new columns to add to your `data` dataframe.  The first is `test_scaled`, which you should create by subtracting the mean test score and dividing by the standard deviation test score.  \n",
    "\n",
    "The second column to create is `5k_time_sec`, which should have the minutes changed to seconds."
   ]
  },
  {
   "cell_type": "code",
   "execution_count": 13,
   "metadata": {},
   "outputs": [],
   "source": [
    "# データ代入\n",
    "tmp_data            = data['Raw_Test_Score']\n",
    "\n",
    "# 平均値　＝　0　にする\n",
    "data['test_scaled'] = tmp_data - np.mean(tmp_data)\n",
    "\n",
    "# 標準偏差　＝　1　にする\n",
    "data['test_scaled'] = data['test_scaled'] / (np.std(tmp_data))\n",
    "\n",
    "# 分　を　秒　にする　：　【注意】1行上とは異なるデータを60倍\n",
    "data['5k_time_sec'] = data['5k_Time'] * 60# times in seconds"
   ]
  },
  {
   "cell_type": "code",
   "execution_count": 14,
   "metadata": {},
   "outputs": [
    {
     "data": {
      "text/html": [
       "<div>\n",
       "<style scoped>\n",
       "    .dataframe tbody tr th:only-of-type {\n",
       "        vertical-align: middle;\n",
       "    }\n",
       "\n",
       "    .dataframe tbody tr th {\n",
       "        vertical-align: top;\n",
       "    }\n",
       "\n",
       "    .dataframe thead th {\n",
       "        text-align: right;\n",
       "    }\n",
       "</style>\n",
       "<table border=\"1\" class=\"dataframe\">\n",
       "  <thead>\n",
       "    <tr style=\"text-align: right;\">\n",
       "      <th></th>\n",
       "      <th>5k_Time</th>\n",
       "      <th>Raw_Test_Score</th>\n",
       "      <th>test_scaled</th>\n",
       "      <th>5k_time_sec</th>\n",
       "    </tr>\n",
       "  </thead>\n",
       "  <tbody>\n",
       "    <tr>\n",
       "      <th>count</th>\n",
       "      <td>60.000000</td>\n",
       "      <td>60.000000</td>\n",
       "      <td>6.000000e+01</td>\n",
       "      <td>60.000000</td>\n",
       "    </tr>\n",
       "    <tr>\n",
       "      <th>mean</th>\n",
       "      <td>22.899027</td>\n",
       "      <td>511.699603</td>\n",
       "      <td>1.665335e-16</td>\n",
       "      <td>1373.941601</td>\n",
       "    </tr>\n",
       "    <tr>\n",
       "      <th>std</th>\n",
       "      <td>4.536244</td>\n",
       "      <td>183.222427</td>\n",
       "      <td>1.008439e+00</td>\n",
       "      <td>272.174614</td>\n",
       "    </tr>\n",
       "    <tr>\n",
       "      <th>min</th>\n",
       "      <td>15.263902</td>\n",
       "      <td>206.597283</td>\n",
       "      <td>-1.679254e+00</td>\n",
       "      <td>915.834115</td>\n",
       "    </tr>\n",
       "    <tr>\n",
       "      <th>25%</th>\n",
       "      <td>18.820638</td>\n",
       "      <td>361.798208</td>\n",
       "      <td>-8.250432e-01</td>\n",
       "      <td>1129.238298</td>\n",
       "    </tr>\n",
       "    <tr>\n",
       "      <th>50%</th>\n",
       "      <td>24.033613</td>\n",
       "      <td>545.795365</td>\n",
       "      <td>1.876599e-01</td>\n",
       "      <td>1442.016785</td>\n",
       "    </tr>\n",
       "    <tr>\n",
       "      <th>75%</th>\n",
       "      <td>26.956643</td>\n",
       "      <td>656.346547</td>\n",
       "      <td>7.961231e-01</td>\n",
       "      <td>1617.398565</td>\n",
       "    </tr>\n",
       "    <tr>\n",
       "      <th>max</th>\n",
       "      <td>29.867819</td>\n",
       "      <td>797.599192</td>\n",
       "      <td>1.573564e+00</td>\n",
       "      <td>1792.069129</td>\n",
       "    </tr>\n",
       "  </tbody>\n",
       "</table>\n",
       "</div>"
      ],
      "text/plain": [
       "         5k_Time  Raw_Test_Score   test_scaled  5k_time_sec\n",
       "count  60.000000       60.000000  6.000000e+01    60.000000\n",
       "mean   22.899027      511.699603  1.665335e-16  1373.941601\n",
       "std     4.536244      183.222427  1.008439e+00   272.174614\n",
       "min    15.263902      206.597283 -1.679254e+00   915.834115\n",
       "25%    18.820638      361.798208 -8.250432e-01  1129.238298\n",
       "50%    24.033613      545.795365  1.876599e-01  1442.016785\n",
       "75%    26.956643      656.346547  7.961231e-01  1617.398565\n",
       "max    29.867819      797.599192  1.573564e+00  1792.069129"
      ]
     },
     "execution_count": 14,
     "metadata": {},
     "output_type": "execute_result"
    }
   ],
   "source": [
    "data.describe()"
   ]
  },
  {
   "cell_type": "markdown",
   "metadata": {},
   "source": [
    "`4.` Now, similar to what you did in question 2, instantiate a kmeans `model` with 2 cluster centers.  Use your model to `fit` and `predict` the the group of each point in your dataset.  Store the predictions in `preds`.  If you correctly created the model and predictions, you should see a right (blue) cluster and left (pink) cluster when running the following cell."
   ]
  },
  {
   "cell_type": "code",
   "execution_count": 15,
   "metadata": {},
   "outputs": [
    {
     "name": "stdout",
     "output_type": "stream",
     "text": [
      "preds = \n",
      " [1 1 0 1 1 0 1 0 0 1 0 1 1 1 0 0 0 1 1 1 0 1 1 0 1 0 0 0 1 0 1 1 1 1 1 1 0\n",
      " 0 1 0 1 1 1 1 0 1 1 0 1 0 1 0 0 0 0 0 1 1 0 1]\n"
     ]
    }
   ],
   "source": [
    "model = KMeans(n_clusters=2)\n",
    "preds = model.fit_predict(data)\n",
    "print(\"preds = \\n\", preds)"
   ]
  },
  {
   "cell_type": "code",
   "execution_count": 16,
   "metadata": {},
   "outputs": [
    {
     "data": {
      "image/png": "[encoded data removed]",
      "text/plain": [
       "<Figure size 432x288 with 1 Axes>"
      ]
     },
     "metadata": {
      "needs_background": "light"
     },
     "output_type": "display_data"
    }
   ],
   "source": [
    "# Run this to see your results\n",
    "plot_clusters(data, preds, 2)"
   ]
  },
  {
   "cell_type": "markdown",
   "metadata": {},
   "source": [
    "`5.` Match the variable that best describes the way you should think of feature scaling with algorithms that use distance based metrics or regularization."
   ]
  },
  {
   "cell_type": "code",
   "execution_count": 17,
   "metadata": {},
   "outputs": [
    {
     "name": "stdout",
     "output_type": "stream",
     "text": [
      "Variable scale will frequently influence your results, so it is important to standardize for all of these algorithms.\n"
     ]
    }
   ],
   "source": [
    "# options\n",
    "a = 'We should always use normalizing'\n",
    "b = 'We should always scale our variables between 0 and 1.'\n",
    "c = 'Variable scale will frequently influence your results, \\\n",
    "     so it is important to standardize for all of these algorithms.'\n",
    "d = 'Scaling will not change the results of your output.'\n",
    "\n",
    "best_option = c # best answer variable here\n",
    "\n",
    "# check your answer against ours here\n",
    "t.check_q5(best_option)"
   ]
  },
  {
   "cell_type": "markdown",
   "metadata": {},
   "source": [
    "###  If you get stuck, you can find a solution by pushing the orange icon in the top left of this notebook."
   ]
  },
  {
   "cell_type": "code",
   "execution_count": null,
   "metadata": {},
   "outputs": [],
   "source": []
  }
 ],
 "metadata": {
  "kernelspec": {
   "display_name": "Python 3",
   "language": "python",
   "name": "python3"
  },
  "language_info": {
   "codemirror_mode": {
    "name": "ipython",
    "version": 3
   },
   "file_extension": ".py",
   "mimetype": "text/x-python",
   "name": "python",
   "nbconvert_exporter": "python",
   "pygments_lexer": "ipython3",
   "version": "3.6.8"
  }
 },
 "nbformat": 4,
 "nbformat_minor": 2
}
